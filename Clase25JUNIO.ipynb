{
  "nbformat": 4,
  "nbformat_minor": 0,
  "metadata": {
    "colab": {
      "provenance": [],
      "authorship_tag": "ABX9TyOsEuw5SwYpLYeFLRnWSHZc",
      "include_colab_link": true
    },
    "kernelspec": {
      "name": "python3",
      "display_name": "Python 3"
    },
    "language_info": {
      "name": "python"
    }
  },
  "cells": [
    {
      "cell_type": "markdown",
      "metadata": {
        "id": "view-in-github",
        "colab_type": "text"
      },
      "source": [
        "<a href=\"https://colab.research.google.com/github/AleHdezOli/Curso-Python/blob/main/Clase25JUNIO.ipynb\" target=\"_parent\"><img src=\"https://colab.research.google.com/assets/colab-badge.svg\" alt=\"Open In Colab\"/></a>"
      ]
    },
    {
      "cell_type": "code",
      "execution_count": 2,
      "metadata": {
        "colab": {
          "base_uri": "https://localhost:8080/"
        },
        "id": "gs92yrfJVyI9",
        "outputId": "e8bfc8c2-1ff9-40ec-b6a0-12a7f9933c7b"
      },
      "outputs": [
        {
          "output_type": "stream",
          "name": "stdout",
          "text": [
            "2.718281828459045\n"
          ]
        }
      ],
      "source": [
        "import numpy as np\n",
        "print(np.e)\n",
        "\n"
      ]
    },
    {
      "cell_type": "code",
      "source": [
        "import math\n",
        "x = 2\n",
        "for i in range(1000):\n",
        "    x = (1 + 1/x)**x\n",
        "\n",
        "print('el número e es:', x)"
      ],
      "metadata": {
        "colab": {
          "base_uri": "https://localhost:8080/"
        },
        "id": "cjoDn6flWmT6",
        "outputId": "e90c9208-ee88-4eb4-d780-c6f0ba30a8e1"
      },
      "execution_count": 7,
      "outputs": [
        {
          "output_type": "stream",
          "name": "stdout",
          "text": [
            "el número e es: 2.2931662874118612\n"
          ]
        }
      ]
    },
    {
      "cell_type": "code",
      "source": [
        "def termino (n):\n",
        "  resultado = ((-1)**n) / (2*n +1)\n",
        "  return resultado\n",
        "\n",
        "sumatoria = 0\n",
        "for n in range(1000000):\n",
        "  sumatoria = sumatoria + termino(n)\n",
        "print(sumatoria)\n",
        "print(4*sumatoria)"
      ],
      "metadata": {
        "colab": {
          "base_uri": "https://localhost:8080/"
        },
        "id": "12SoHav0bxon",
        "outputId": "2e22d081-2dd2-42f3-cb76-28161ae02f5b"
      },
      "execution_count": 14,
      "outputs": [
        {
          "output_type": "stream",
          "name": "stdout",
          "text": [
            "0.7853979133974436\n",
            "3.1415916535897743\n"
          ]
        }
      ]
    },
    {
      "cell_type": "code",
      "source": [
        "import numpy as np\n",
        "print(np.pi)"
      ],
      "metadata": {
        "colab": {
          "base_uri": "https://localhost:8080/"
        },
        "id": "4ncmajojdpbf",
        "outputId": "6ac7d35c-dca6-4989-cd75-f074fc8830aa"
      },
      "execution_count": 13,
      "outputs": [
        {
          "output_type": "stream",
          "name": "stdout",
          "text": [
            "3.141592653589793\n"
          ]
        }
      ]
    },
    {
      "cell_type": "code",
      "source": [
        "from math import sqrt\n",
        "\n",
        "print('Hola, vamos a resolver una ecuación de segundo grado:')\n",
        "print('ax^2 + bx + c = 0')\n",
        "\n",
        "a, b, c = [float(input(f'Dame el coeficiente {coef}:')) for coef in ('a', 'b', 'c')]\n",
        "\n",
        "discriminante = (b**2)-(4*a*c)\n",
        "\n",
        "if discriminante < 0:\n",
        "    print(f'La ecuación no tienen soluciones reales.')\n",
        "else:\n",
        "    raiz = sqrt(discriminante)\n",
        "    x1 = (-b + raiz)/(2*a)\n",
        "    if discriminante !=0:\n",
        "        x2 = (-b - raiz) / (2*a)\n",
        "        print(f'Las soluciones son {x1} y {x2}.')\n",
        "    else:\n",
        "        print(f'La única solución es x = {x1}')"
      ],
      "metadata": {
        "colab": {
          "base_uri": "https://localhost:8080/"
        },
        "id": "WBuOzbXFeM_i",
        "outputId": "311506ee-c501-4b44-e193-0427e46b6076"
      },
      "execution_count": 17,
      "outputs": [
        {
          "output_type": "stream",
          "name": "stdout",
          "text": [
            "Hola, vamos a resolver una ecuación de segundo grado:\n",
            "ax^2 + bx + c = 0\n",
            "Dame el coeficiente a:3\n",
            "Dame el coeficiente b:6\n",
            "Dame el coeficiente c:1\n",
            "Las soluciones son -0.18350341907227405 y -1.816496580927726.\n"
          ]
        }
      ]
    },
    {
      "cell_type": "code",
      "source": [
        "from sympy import symbols, cos\n",
        "\n",
        "x = symbols('x')\n",
        "\n",
        "cosx =  cos(x)\n",
        "\n",
        "print(cosx.series(x, n=40))\n",
        "\n",
        "print(cosx.series(x, n=40).removeO())"
      ],
      "metadata": {
        "colab": {
          "base_uri": "https://localhost:8080/"
        },
        "id": "--XDpdIqnjBU",
        "outputId": "dc051409-c28b-440a-bbef-1a267db7d3e4"
      },
      "execution_count": 19,
      "outputs": [
        {
          "output_type": "stream",
          "name": "stdout",
          "text": [
            "1 - x**2/2 + x**4/24 - x**6/720 + x**8/40320 - x**10/3628800 + x**12/479001600 - x**14/87178291200 + x**16/20922789888000 - x**18/6402373705728000 + x**20/2432902008176640000 - x**22/1124000727777607680000 + x**24/620448401733239439360000 - x**26/403291461126605635584000000 + x**28/304888344611713860501504000000 - x**30/265252859812191058636308480000000 + x**32/263130836933693530167218012160000000 - x**34/295232799039604140847618609643520000000 + x**36/371993326789901217467999448150835200000000 - x**38/523022617466601111760007224100074291200000000 + O(x**40)\n",
            "-x**38/523022617466601111760007224100074291200000000 + x**36/371993326789901217467999448150835200000000 - x**34/295232799039604140847618609643520000000 + x**32/263130836933693530167218012160000000 - x**30/265252859812191058636308480000000 + x**28/304888344611713860501504000000 - x**26/403291461126605635584000000 + x**24/620448401733239439360000 - x**22/1124000727777607680000 + x**20/2432902008176640000 - x**18/6402373705728000 + x**16/20922789888000 - x**14/87178291200 + x**12/479001600 - x**10/3628800 + x**8/40320 - x**6/720 + x**4/24 - x**2/2 + 1\n"
          ]
        }
      ]
    },
    {
      "cell_type": "markdown",
      "source": [
        "Calculo de Raíces reales positivas con el método babilónico"
      ],
      "metadata": {
        "id": "ZvQnHsqKn4us"
      }
    },
    {
      "cell_type": "code",
      "source": [
        "import math\n",
        "\n",
        "n = float(input(\"Dame el valor del cual quieres la raíz: \"))\n",
        "aprox = float(input(\"Da una aproximación: \"))\n",
        "\n",
        "sucRaiz= []\n",
        "\n",
        "for i in range(10):\n",
        "    aprox = (1/2)*(aprox +  n/aprox)\n",
        "    sucRaiz.append(aprox)\n",
        "\n",
        "print(\"La raíz aproximada de  {0} es {1:.49} \".format(n,aprox))\n",
        "print(\"La raíz con math de {0} es {1:.49}\".format(n,math.sqrt(n)))\n",
        "print(\"La suceción es: \", sucRaiz)"
      ],
      "metadata": {
        "colab": {
          "base_uri": "https://localhost:8080/"
        },
        "id": "cP-5GcPhn_Wt",
        "outputId": "bf306eb8-4513-4e53-caf0-88d2c66900e3"
      },
      "execution_count": 24,
      "outputs": [
        {
          "output_type": "stream",
          "name": "stdout",
          "text": [
            "Dame el valor del cual quieres la raíz: 2\n",
            "Da una aproximación: 1\n",
            "La raíz aproximada de  2.0 es 1.414213562373094923430016933707520365715026855469 \n",
            "La raíz con math de 2.0 es 1.414213562373095145474621858738828450441360473633\n",
            "La suceción es:  [1.5, 1.4166666666666665, 1.4142156862745097, 1.4142135623746899, 1.414213562373095, 1.414213562373095, 1.414213562373095, 1.414213562373095, 1.414213562373095, 1.414213562373095]\n"
          ]
        }
      ]
    }
  ]
}